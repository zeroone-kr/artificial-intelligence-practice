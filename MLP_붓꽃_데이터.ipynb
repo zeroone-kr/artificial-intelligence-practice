{
  "nbformat": 4,
  "nbformat_minor": 0,
  "metadata": {
    "colab": {
      "provenance": [],
      "authorship_tag": "ABX9TyNIWyF+F4BRcuOFa88yD0pa"
    },
    "kernelspec": {
      "name": "python3",
      "display_name": "Python 3"
    },
    "language_info": {
      "name": "python"
    }
  },
  "cells": [
    {
      "cell_type": "markdown",
      "source": [
        "##8.1) 앞서 살펴본 붓꽃 데이터를 입력으로 하여 Versicolor, Setosa, Virginica 3종의 품종을 구분하는 심층 신경망을 구성하도록 하자. 이 때 다음의 같은 절차에 따라 순차 심층 신경망 모델을 생성하자"
      ],
      "metadata": {
        "id": "3grqicoDuEl_"
      }
    },
    {
      "cell_type": "code",
      "execution_count": 1,
      "metadata": {
        "id": "PKAJ_qNSdNya"
      },
      "outputs": [],
      "source": [
        "import numpy as np\n",
        "import tensorflow as tf\n",
        "from sklearn.datasets import load_iris\n",
        "from sklearn.model_selection import train_test_split\n",
        "from sklearn.preprocessing import StandardScaler\n",
        "\n",
        "iris = load_iris()\n",
        "X = iris.data\n",
        "y = iris.target"
      ]
    },
    {
      "cell_type": "markdown",
      "source": [
        "1) 제공되는 150개의 입력데이터에 대하여 70%를 훈련용 데이터로 사용하고 30%를 테스트용 데이터로 사용하도록 하자. 따라서 105개의 훈련용 데이터와 45개의 학습용 데이터가 생성된다. 이제 다음과 같이 훈련용 데이터의 형태와 레이블, 테스트용 데이터의 형태와 레이블의 shape을 출력해보자. 마지막으로 개별 훈련 데이터의 형태도 출력해 보자."
      ],
      "metadata": {
        "id": "FFmEN6DqoUEI"
      }
    },
    {
      "cell_type": "code",
      "source": [
        "# 데이터를 분할합니다.\n",
        "X_train, X_test, y_train, y_test = train_test_split(X, y, test_size=0.3, random_state=42)\n",
        "\n",
        "# 데이터 정규화\n",
        "scaler = StandardScaler()\n",
        "X_train = scaler.fit_transform(X_train)\n",
        "X_test = scaler.transform(X_test)\n",
        "\n",
        "print(\"훈련용 데이터의 형태:\", X_train.shape)\n",
        "print(\"훈련용 데이터의 레이블 형태:\", y_train.shape)\n",
        "print(\"테스트용 데이터의 형태:\", X_test.shape)\n",
        "print(\"테스트용 데이터의 레이블 형태:\", y_test.shape)\n",
        "print(\"개별 훈련 데이터의 형태:\", X_train[0].shape)"
      ],
      "metadata": {
        "colab": {
          "base_uri": "https://localhost:8080/"
        },
        "id": "YBhR-KQad0Ev",
        "outputId": "18049ac5-ea60-42d1-c8c8-a0066216ad78"
      },
      "execution_count": 2,
      "outputs": [
        {
          "output_type": "stream",
          "name": "stdout",
          "text": [
            "훈련용 데이터의 형태: (105, 4)\n",
            "훈련용 데이터의 레이블 형태: (105,)\n",
            "테스트용 데이터의 형태: (45, 4)\n",
            "테스트용 데이터의 레이블 형태: (45,)\n",
            "개별 훈련 데이터의 형태: (4,)\n"
          ]
        }
      ]
    },
    {
      "cell_type": "markdown",
      "source": [
        "2) 꽃받침의 길이와 너비 및 꽃 잎의 길이와 너비와 같은 4개의 값을 입력층의 입력으로 가지도록 하자.\n",
        "\n",
        "3) 64개의 노드를 가지는 하나의 은닉층 노드를 만들자\n",
        "\n",
        "4) 손실 함수는 sparce_categorical_crossentropy, 최적의 함수는 adam 최적화, 정확도는 accuracy 값을 가지도록 하자.\n",
        "\n",
        "5) 모델을 훈련시킬때 배치의 크기는 5, 에폭의 수는 30으로 두자.\n",
        "\n",
        "6) 위와 같은 순차 신경망을 만들어서 테스트 데이터에 대한 모델의 분류를 위한 학습을 시켜보자. 이때 정확도는 다음과 같이 90% 이상이 되도록 하이퍼파라미터를 튜닝하도록 하자."
      ],
      "metadata": {
        "id": "PxO-AC13njoP"
      }
    },
    {
      "cell_type": "code",
      "source": [
        "# model을 구성하고 훈련시킵니다.\n",
        "model = tf.keras.models.Sequential([\n",
        "    tf.keras.layers.Flatten(input_shape=(4,)),\n",
        "    tf.keras.layers.Dense(64, activation='relu'),\n",
        "    tf.keras.layers.Dense(3, activation='softmax')\n",
        "])\n",
        "\n",
        "model.compile(optimizer='adam', loss='sparse_categorical_crossentropy', metrics=['accuracy'])\n",
        "history = model.fit(X_train, y_train, batch_size=5, epochs=30, validation_data=(X_test, y_test))"
      ],
      "metadata": {
        "colab": {
          "base_uri": "https://localhost:8080/"
        },
        "id": "k4fk_akHeQ_O",
        "outputId": "45cc4a2b-ba9b-4ebe-9d32-98dadf9bb0af"
      },
      "execution_count": 3,
      "outputs": [
        {
          "output_type": "stream",
          "name": "stdout",
          "text": [
            "Epoch 1/30\n",
            "21/21 [==============================] - 2s 41ms/step - loss: 0.8670 - accuracy: 0.6476 - val_loss: 0.7627 - val_accuracy: 0.7556\n",
            "Epoch 2/30\n",
            "21/21 [==============================] - 0s 10ms/step - loss: 0.6773 - accuracy: 0.8095 - val_loss: 0.5800 - val_accuracy: 0.7778\n",
            "Epoch 3/30\n",
            "21/21 [==============================] - 0s 9ms/step - loss: 0.5614 - accuracy: 0.8381 - val_loss: 0.4783 - val_accuracy: 0.8000\n",
            "Epoch 4/30\n",
            "21/21 [==============================] - 0s 14ms/step - loss: 0.4882 - accuracy: 0.8286 - val_loss: 0.4234 - val_accuracy: 0.8222\n",
            "Epoch 5/30\n",
            "21/21 [==============================] - 0s 9ms/step - loss: 0.4397 - accuracy: 0.8286 - val_loss: 0.3871 - val_accuracy: 0.8222\n",
            "Epoch 6/30\n",
            "21/21 [==============================] - 0s 7ms/step - loss: 0.4033 - accuracy: 0.8381 - val_loss: 0.3575 - val_accuracy: 0.8444\n",
            "Epoch 7/30\n",
            "21/21 [==============================] - 0s 11ms/step - loss: 0.3741 - accuracy: 0.8571 - val_loss: 0.3353 - val_accuracy: 0.8444\n",
            "Epoch 8/30\n",
            "21/21 [==============================] - 0s 12ms/step - loss: 0.3476 - accuracy: 0.8667 - val_loss: 0.3159 - val_accuracy: 0.8444\n",
            "Epoch 9/30\n",
            "21/21 [==============================] - 0s 9ms/step - loss: 0.3281 - accuracy: 0.8762 - val_loss: 0.3001 - val_accuracy: 0.8444\n",
            "Epoch 10/30\n",
            "21/21 [==============================] - 0s 11ms/step - loss: 0.3098 - accuracy: 0.8952 - val_loss: 0.2835 - val_accuracy: 0.8444\n",
            "Epoch 11/30\n",
            "21/21 [==============================] - 0s 7ms/step - loss: 0.2943 - accuracy: 0.9048 - val_loss: 0.2684 - val_accuracy: 0.8667\n",
            "Epoch 12/30\n",
            "21/21 [==============================] - 0s 5ms/step - loss: 0.2786 - accuracy: 0.9333 - val_loss: 0.2537 - val_accuracy: 0.8889\n",
            "Epoch 13/30\n",
            "21/21 [==============================] - 0s 10ms/step - loss: 0.2659 - accuracy: 0.9333 - val_loss: 0.2393 - val_accuracy: 0.9111\n",
            "Epoch 14/30\n",
            "21/21 [==============================] - 0s 13ms/step - loss: 0.2540 - accuracy: 0.9238 - val_loss: 0.2265 - val_accuracy: 0.9111\n",
            "Epoch 15/30\n",
            "21/21 [==============================] - 0s 15ms/step - loss: 0.2429 - accuracy: 0.9333 - val_loss: 0.2141 - val_accuracy: 0.9111\n",
            "Epoch 16/30\n",
            "21/21 [==============================] - 0s 8ms/step - loss: 0.2303 - accuracy: 0.9333 - val_loss: 0.2017 - val_accuracy: 0.9111\n",
            "Epoch 17/30\n",
            "21/21 [==============================] - 0s 12ms/step - loss: 0.2204 - accuracy: 0.9429 - val_loss: 0.1917 - val_accuracy: 0.9111\n",
            "Epoch 18/30\n",
            "21/21 [==============================] - 0s 12ms/step - loss: 0.2106 - accuracy: 0.9429 - val_loss: 0.1788 - val_accuracy: 0.9556\n",
            "Epoch 19/30\n",
            "21/21 [==============================] - 0s 12ms/step - loss: 0.2023 - accuracy: 0.9333 - val_loss: 0.1685 - val_accuracy: 0.9556\n",
            "Epoch 20/30\n",
            "21/21 [==============================] - 0s 14ms/step - loss: 0.1952 - accuracy: 0.9333 - val_loss: 0.1569 - val_accuracy: 0.9556\n",
            "Epoch 21/30\n",
            "21/21 [==============================] - 0s 19ms/step - loss: 0.1857 - accuracy: 0.9333 - val_loss: 0.1506 - val_accuracy: 0.9556\n",
            "Epoch 22/30\n",
            "21/21 [==============================] - 0s 15ms/step - loss: 0.1783 - accuracy: 0.9524 - val_loss: 0.1410 - val_accuracy: 0.9778\n",
            "Epoch 23/30\n",
            "21/21 [==============================] - 0s 22ms/step - loss: 0.1713 - accuracy: 0.9524 - val_loss: 0.1337 - val_accuracy: 0.9778\n",
            "Epoch 24/30\n",
            "21/21 [==============================] - 0s 14ms/step - loss: 0.1655 - accuracy: 0.9429 - val_loss: 0.1248 - val_accuracy: 1.0000\n",
            "Epoch 25/30\n",
            "21/21 [==============================] - 0s 21ms/step - loss: 0.1584 - accuracy: 0.9524 - val_loss: 0.1201 - val_accuracy: 1.0000\n",
            "Epoch 26/30\n",
            "21/21 [==============================] - 0s 14ms/step - loss: 0.1547 - accuracy: 0.9619 - val_loss: 0.1143 - val_accuracy: 1.0000\n",
            "Epoch 27/30\n",
            "21/21 [==============================] - 0s 14ms/step - loss: 0.1475 - accuracy: 0.9619 - val_loss: 0.1054 - val_accuracy: 1.0000\n",
            "Epoch 28/30\n",
            "21/21 [==============================] - 0s 20ms/step - loss: 0.1449 - accuracy: 0.9524 - val_loss: 0.0999 - val_accuracy: 1.0000\n",
            "Epoch 29/30\n",
            "21/21 [==============================] - 0s 21ms/step - loss: 0.1407 - accuracy: 0.9524 - val_loss: 0.0988 - val_accuracy: 1.0000\n",
            "Epoch 30/30\n",
            "21/21 [==============================] - 0s 23ms/step - loss: 0.1343 - accuracy: 0.9714 - val_loss: 0.0922 - val_accuracy: 1.0000\n"
          ]
        }
      ]
    },
    {
      "cell_type": "code",
      "source": [
        "test_loss, test_accuracy = model.evaluate(X_test, y_test)\n",
        "print(\"테스트 데이터 정확도:\", test_accuracy)"
      ],
      "metadata": {
        "colab": {
          "base_uri": "https://localhost:8080/"
        },
        "id": "RyPu5wyceSNN",
        "outputId": "edb34fd4-8cf3-4569-9161-b55e4669ed0f"
      },
      "execution_count": 4,
      "outputs": [
        {
          "output_type": "stream",
          "name": "stdout",
          "text": [
            "2/2 [==============================] - 0s 26ms/step - loss: 0.0922 - accuracy: 1.0000\n",
            "테스트 데이터 정확도: 1.0\n"
          ]
        }
      ]
    },
    {
      "cell_type": "markdown",
      "source": [
        "7) 사용된 하이퍼 파라미터를 구체적으로 적어보자"
      ],
      "metadata": {
        "id": "GjsrqOi8jm6V"
      }
    },
    {
      "cell_type": "code",
      "source": [
        "model.summary()\n",
        "#dense 5*64 = 320\n",
        "#dense 65*3= 195\n",
        "#320 + 195 = 515개"
      ],
      "metadata": {
        "colab": {
          "base_uri": "https://localhost:8080/"
        },
        "id": "gYBLccZDeVgt",
        "outputId": "7eff6189-b831-417a-ec39-1f5f0d2f0e6e"
      },
      "execution_count": 5,
      "outputs": [
        {
          "output_type": "stream",
          "name": "stdout",
          "text": [
            "Model: \"sequential\"\n",
            "_________________________________________________________________\n",
            " Layer (type)                Output Shape              Param #   \n",
            "=================================================================\n",
            " flatten (Flatten)           (None, 4)                 0         \n",
            "                                                                 \n",
            " dense (Dense)               (None, 64)                320       \n",
            "                                                                 \n",
            " dense_1 (Dense)             (None, 3)                 195       \n",
            "                                                                 \n",
            "=================================================================\n",
            "Total params: 515\n",
            "Trainable params: 515\n",
            "Non-trainable params: 0\n",
            "_________________________________________________________________\n"
          ]
        }
      ]
    },
    {
      "cell_type": "markdown",
      "source": [
        "8) 다음과 같이 각 에폭 단계별 손실 값의 변화와 정확도 값의 변화를 출력하자"
      ],
      "metadata": {
        "id": "-VtVDM-vjh3P"
      }
    },
    {
      "cell_type": "code",
      "source": [
        "import matplotlib.pyplot as plt\n",
        "\n",
        "# 검증 데이터에 대한 손실값과 정확도 값을 가져옵니다.\n",
        "validation_loss = history.history['val_loss']\n",
        "validation_accuracy = history.history['val_accuracy']\n",
        "\n",
        "# 손실값 그래프를 그립니다.\n",
        "plt.figure(figsize=(10, 5))\n",
        "plt.subplot(1, 2, 1)\n",
        "plt.plot(range(len(validation_loss)), validation_loss, 'b',label=\"loss value\")\n",
        "plt.xlabel(\"Epoch\")\n",
        "plt.ylabel(\"Loss\")\n",
        "plt.legend()\n",
        "\n",
        "# 정확도 그래프를 그립니다.\n",
        "plt.subplot(1, 2, 2)\n",
        "plt.plot(range(len(validation_accuracy)), validation_accuracy, 'r', label=\"accuracy\")\n",
        "plt.xlabel(\"Epoch\")\n",
        "plt.ylabel(\"Accuracy\")\n",
        "plt.legend()\n",
        "\n",
        "plt.show()"
      ],
      "metadata": {
        "colab": {
          "base_uri": "https://localhost:8080/",
          "height": 465
        },
        "id": "C8Alke4vfWvG",
        "outputId": "c3e65085-c1bc-4ec6-c0ef-3bef3fc74a54"
      },
      "execution_count": 6,
      "outputs": [
        {
          "output_type": "display_data",
          "data": {
            "text/plain": [
              "<Figure size 1000x500 with 2 Axes>"
            ],
            "image/png": "[encoded data removed]"
          },
          "metadata": {}
        }
      ]
    },
    {
      "cell_type": "markdown",
      "source": [
        "9) 이 순차 네트워크에 드롭아웃을 사용하여 네트워크의 성능을 개선시킬 수 있을지 알아보자. 드롭아웃 비율을 각각 20%, 30%로 한 다음 붓꽃 데이터의 분류 정확도를 출력해보자"
      ],
      "metadata": {
        "id": "xxkqCU-7jSr2"
      }
    },
    {
      "cell_type": "code",
      "source": [
        "# 드롭아웃 비율이 20%인 모델\n",
        "model_dropout_20 = tf.keras.models.Sequential([\n",
        "    tf.keras.layers.Flatten(input_shape=(4,)),\n",
        "    tf.keras.layers.Dense(64, activation='relu'),\n",
        "    tf.keras.layers.Dropout(0.2),\n",
        "    tf.keras.layers.Dense(3, activation='softmax')\n",
        "])\n",
        "\n",
        "model_dropout_20.compile(optimizer='adam', loss='sparse_categorical_crossentropy', metrics=['accuracy'])\n",
        "history_dropout_20 = model_dropout_20.fit(X_train, y_train, batch_size=5, epochs=30, validation_data=(X_test, y_test))\n",
        "test_loss_20, test_accuracy_20 = model_dropout_20.evaluate(X_test, y_test)\n",
        "\n",
        "\n",
        "# 드롭아웃 비율이 30%인 모델\n",
        "model_dropout_30 = tf.keras.models.Sequential([\n",
        "    tf.keras.layers.Flatten(input_shape=(4,)),\n",
        "    tf.keras.layers.Dense(64, activation='relu'),\n",
        "    tf.keras.layers.Dropout(0.3),\n",
        "    tf.keras.layers.Dense(3, activation='softmax')\n",
        "])\n",
        "\n",
        "model_dropout_30.compile(optimizer='adam', loss='sparse_categorical_crossentropy', metrics=['accuracy'])\n",
        "history_dropout_30 = model_dropout_30.fit(X_train, y_train, batch_size=5, epochs=30, validation_data=(X_test, y_test))\n",
        "test_loss_30, test_accuracy_30 = model_dropout_30.evaluate(X_test, y_test)\n",
        "\n",
        "\n",
        "# 결과 출력\n",
        "print(\"드롭아웃 20%일 때 테스트 데이터 정확도:\", test_accuracy_20)\n",
        "print(\"드롭아웃 30%일 때 테스트 데이터 정확도:\", test_accuracy_30)"
      ],
      "metadata": {
        "colab": {
          "base_uri": "https://localhost:8080/"
        },
        "id": "XWWQgQF-hebl",
        "outputId": "0b75b967-b873-4b4a-ca3b-3335325bbf69"
      },
      "execution_count": 7,
      "outputs": [
        {
          "output_type": "stream",
          "name": "stdout",
          "text": [
            "Epoch 1/30\n",
            "21/21 [==============================] - 2s 22ms/step - loss: 1.0862 - accuracy: 0.4000 - val_loss: 0.8672 - val_accuracy: 0.6222\n",
            "Epoch 2/30\n",
            "21/21 [==============================] - 0s 7ms/step - loss: 0.8993 - accuracy: 0.5048 - val_loss: 0.6885 - val_accuracy: 0.7111\n",
            "Epoch 3/30\n",
            "21/21 [==============================] - 0s 13ms/step - loss: 0.7187 - accuracy: 0.7429 - val_loss: 0.5756 - val_accuracy: 0.8444\n",
            "Epoch 4/30\n",
            "21/21 [==============================] - 0s 7ms/step - loss: 0.6382 - accuracy: 0.7333 - val_loss: 0.4996 - val_accuracy: 0.8000\n",
            "Epoch 5/30\n",
            "21/21 [==============================] - 0s 11ms/step - loss: 0.5462 - accuracy: 0.8095 - val_loss: 0.4496 - val_accuracy: 0.8000\n",
            "Epoch 6/30\n",
            "21/21 [==============================] - 0s 10ms/step - loss: 0.4918 - accuracy: 0.8286 - val_loss: 0.4135 - val_accuracy: 0.8000\n",
            "Epoch 7/30\n",
            "21/21 [==============================] - 0s 8ms/step - loss: 0.4466 - accuracy: 0.8667 - val_loss: 0.3861 - val_accuracy: 0.8444\n",
            "Epoch 8/30\n",
            "21/21 [==============================] - 0s 9ms/step - loss: 0.4300 - accuracy: 0.8190 - val_loss: 0.3657 - val_accuracy: 0.8444\n",
            "Epoch 9/30\n",
            "21/21 [==============================] - 0s 9ms/step - loss: 0.3967 - accuracy: 0.8571 - val_loss: 0.3467 - val_accuracy: 0.8444\n",
            "Epoch 10/30\n",
            "21/21 [==============================] - 0s 8ms/step - loss: 0.3762 - accuracy: 0.8286 - val_loss: 0.3307 - val_accuracy: 0.8444\n",
            "Epoch 11/30\n",
            "21/21 [==============================] - 0s 12ms/step - loss: 0.3496 - accuracy: 0.8667 - val_loss: 0.3153 - val_accuracy: 0.8444\n",
            "Epoch 12/30\n",
            "21/21 [==============================] - 0s 15ms/step - loss: 0.3372 - accuracy: 0.8667 - val_loss: 0.3013 - val_accuracy: 0.8444\n",
            "Epoch 13/30\n",
            "21/21 [==============================] - 0s 5ms/step - loss: 0.3269 - accuracy: 0.8476 - val_loss: 0.2863 - val_accuracy: 0.8667\n",
            "Epoch 14/30\n",
            "21/21 [==============================] - 0s 8ms/step - loss: 0.3048 - accuracy: 0.9143 - val_loss: 0.2722 - val_accuracy: 0.8889\n",
            "Epoch 15/30\n",
            "21/21 [==============================] - 0s 9ms/step - loss: 0.2929 - accuracy: 0.9048 - val_loss: 0.2623 - val_accuracy: 0.8667\n",
            "Epoch 16/30\n",
            "21/21 [==============================] - 0s 7ms/step - loss: 0.2597 - accuracy: 0.9143 - val_loss: 0.2481 - val_accuracy: 0.9111\n",
            "Epoch 17/30\n",
            "21/21 [==============================] - 0s 15ms/step - loss: 0.2684 - accuracy: 0.9143 - val_loss: 0.2363 - val_accuracy: 0.9111\n",
            "Epoch 18/30\n",
            "21/21 [==============================] - 0s 10ms/step - loss: 0.2432 - accuracy: 0.9333 - val_loss: 0.2246 - val_accuracy: 0.9111\n",
            "Epoch 19/30\n",
            "21/21 [==============================] - 0s 10ms/step - loss: 0.2347 - accuracy: 0.9238 - val_loss: 0.2143 - val_accuracy: 0.9111\n",
            "Epoch 20/30\n",
            "21/21 [==============================] - 0s 9ms/step - loss: 0.2371 - accuracy: 0.9333 - val_loss: 0.2045 - val_accuracy: 0.9111\n",
            "Epoch 21/30\n",
            "21/21 [==============================] - 0s 18ms/step - loss: 0.2176 - accuracy: 0.9429 - val_loss: 0.1886 - val_accuracy: 0.9111\n",
            "Epoch 22/30\n",
            "21/21 [==============================] - 1s 36ms/step - loss: 0.2073 - accuracy: 0.9524 - val_loss: 0.1778 - val_accuracy: 0.9556\n",
            "Epoch 23/30\n",
            "21/21 [==============================] - 0s 23ms/step - loss: 0.2040 - accuracy: 0.9429 - val_loss: 0.1702 - val_accuracy: 0.9556\n",
            "Epoch 24/30\n",
            "21/21 [==============================] - 0s 19ms/step - loss: 0.2024 - accuracy: 0.9714 - val_loss: 0.1618 - val_accuracy: 0.9556\n",
            "Epoch 25/30\n",
            "21/21 [==============================] - 0s 15ms/step - loss: 0.1823 - accuracy: 0.9524 - val_loss: 0.1487 - val_accuracy: 0.9556\n",
            "Epoch 26/30\n",
            "21/21 [==============================] - 0s 16ms/step - loss: 0.1868 - accuracy: 0.9619 - val_loss: 0.1408 - val_accuracy: 0.9556\n",
            "Epoch 27/30\n",
            "21/21 [==============================] - 0s 17ms/step - loss: 0.1852 - accuracy: 0.9429 - val_loss: 0.1353 - val_accuracy: 0.9778\n",
            "Epoch 28/30\n",
            "21/21 [==============================] - 0s 18ms/step - loss: 0.1771 - accuracy: 0.9429 - val_loss: 0.1326 - val_accuracy: 0.9778\n",
            "Epoch 29/30\n",
            "21/21 [==============================] - 0s 17ms/step - loss: 0.1765 - accuracy: 0.9429 - val_loss: 0.1208 - val_accuracy: 0.9778\n",
            "Epoch 30/30\n",
            "21/21 [==============================] - 0s 18ms/step - loss: 0.1636 - accuracy: 0.9429 - val_loss: 0.1199 - val_accuracy: 0.9778\n",
            "2/2 [==============================] - 0s 39ms/step - loss: 0.1199 - accuracy: 0.9778\n",
            "Epoch 1/30\n",
            "21/21 [==============================] - 2s 36ms/step - loss: 0.9318 - accuracy: 0.4762 - val_loss: 0.7712 - val_accuracy: 0.7333\n",
            "Epoch 2/30\n",
            "21/21 [==============================] - 0s 5ms/step - loss: 0.7881 - accuracy: 0.6857 - val_loss: 0.6252 - val_accuracy: 0.8000\n",
            "Epoch 3/30\n",
            "21/21 [==============================] - 0s 4ms/step - loss: 0.6607 - accuracy: 0.7524 - val_loss: 0.5353 - val_accuracy: 0.8222\n",
            "Epoch 4/30\n",
            "21/21 [==============================] - 0s 4ms/step - loss: 0.5906 - accuracy: 0.8000 - val_loss: 0.4755 - val_accuracy: 0.8444\n",
            "Epoch 5/30\n",
            "21/21 [==============================] - 0s 4ms/step - loss: 0.5246 - accuracy: 0.8667 - val_loss: 0.4331 - val_accuracy: 0.8444\n",
            "Epoch 6/30\n",
            "21/21 [==============================] - 0s 5ms/step - loss: 0.4878 - accuracy: 0.8286 - val_loss: 0.3991 - val_accuracy: 0.8444\n",
            "Epoch 7/30\n",
            "21/21 [==============================] - 0s 4ms/step - loss: 0.4267 - accuracy: 0.8476 - val_loss: 0.3715 - val_accuracy: 0.8444\n",
            "Epoch 8/30\n",
            "21/21 [==============================] - 0s 4ms/step - loss: 0.4062 - accuracy: 0.8571 - val_loss: 0.3481 - val_accuracy: 0.8444\n",
            "Epoch 9/30\n",
            "21/21 [==============================] - 0s 4ms/step - loss: 0.3834 - accuracy: 0.8857 - val_loss: 0.3274 - val_accuracy: 0.8667\n",
            "Epoch 10/30\n",
            "21/21 [==============================] - 0s 4ms/step - loss: 0.3401 - accuracy: 0.9048 - val_loss: 0.3084 - val_accuracy: 0.8667\n",
            "Epoch 11/30\n",
            "21/21 [==============================] - 0s 4ms/step - loss: 0.3429 - accuracy: 0.8857 - val_loss: 0.2940 - val_accuracy: 0.8667\n",
            "Epoch 12/30\n",
            "21/21 [==============================] - 0s 4ms/step - loss: 0.3198 - accuracy: 0.8762 - val_loss: 0.2792 - val_accuracy: 0.8667\n",
            "Epoch 13/30\n",
            "21/21 [==============================] - 0s 4ms/step - loss: 0.3161 - accuracy: 0.8667 - val_loss: 0.2675 - val_accuracy: 0.8889\n",
            "Epoch 14/30\n",
            "21/21 [==============================] - 0s 4ms/step - loss: 0.3021 - accuracy: 0.9048 - val_loss: 0.2534 - val_accuracy: 0.9111\n",
            "Epoch 15/30\n",
            "21/21 [==============================] - 0s 4ms/step - loss: 0.2566 - accuracy: 0.9429 - val_loss: 0.2415 - val_accuracy: 0.9111\n",
            "Epoch 16/30\n",
            "21/21 [==============================] - 0s 4ms/step - loss: 0.2679 - accuracy: 0.9143 - val_loss: 0.2276 - val_accuracy: 0.9111\n",
            "Epoch 17/30\n",
            "21/21 [==============================] - 0s 5ms/step - loss: 0.2718 - accuracy: 0.9333 - val_loss: 0.2169 - val_accuracy: 0.9111\n",
            "Epoch 18/30\n",
            "21/21 [==============================] - 0s 4ms/step - loss: 0.2683 - accuracy: 0.9143 - val_loss: 0.2055 - val_accuracy: 0.9111\n",
            "Epoch 19/30\n",
            "21/21 [==============================] - 0s 4ms/step - loss: 0.2435 - accuracy: 0.9238 - val_loss: 0.1962 - val_accuracy: 0.9333\n",
            "Epoch 20/30\n",
            "21/21 [==============================] - 0s 4ms/step - loss: 0.2457 - accuracy: 0.9333 - val_loss: 0.1906 - val_accuracy: 0.9333\n",
            "Epoch 21/30\n",
            "21/21 [==============================] - 0s 4ms/step - loss: 0.2246 - accuracy: 0.9333 - val_loss: 0.1801 - val_accuracy: 0.9556\n",
            "Epoch 22/30\n",
            "21/21 [==============================] - 0s 4ms/step - loss: 0.2272 - accuracy: 0.9333 - val_loss: 0.1728 - val_accuracy: 0.9556\n",
            "Epoch 23/30\n",
            "21/21 [==============================] - 0s 4ms/step - loss: 0.2241 - accuracy: 0.9333 - val_loss: 0.1688 - val_accuracy: 0.9556\n",
            "Epoch 24/30\n",
            "21/21 [==============================] - 0s 4ms/step - loss: 0.2104 - accuracy: 0.9333 - val_loss: 0.1572 - val_accuracy: 0.9556\n",
            "Epoch 25/30\n",
            "21/21 [==============================] - 0s 4ms/step - loss: 0.1944 - accuracy: 0.9429 - val_loss: 0.1481 - val_accuracy: 0.9556\n",
            "Epoch 26/30\n",
            "21/21 [==============================] - 0s 4ms/step - loss: 0.1909 - accuracy: 0.9619 - val_loss: 0.1448 - val_accuracy: 0.9556\n",
            "Epoch 27/30\n",
            "21/21 [==============================] - 0s 4ms/step - loss: 0.2076 - accuracy: 0.9333 - val_loss: 0.1419 - val_accuracy: 0.9556\n",
            "Epoch 28/30\n",
            "21/21 [==============================] - 0s 4ms/step - loss: 0.2116 - accuracy: 0.9238 - val_loss: 0.1352 - val_accuracy: 0.9556\n",
            "Epoch 29/30\n",
            "21/21 [==============================] - 0s 4ms/step - loss: 0.1990 - accuracy: 0.9524 - val_loss: 0.1277 - val_accuracy: 0.9778\n",
            "Epoch 30/30\n",
            "21/21 [==============================] - 0s 4ms/step - loss: 0.1835 - accuracy: 0.9429 - val_loss: 0.1228 - val_accuracy: 0.9778\n",
            "2/2 [==============================] - 0s 10ms/step - loss: 0.1228 - accuracy: 0.9778\n",
            "드롭아웃 20%일 때 테스트 데이터 정확도: 0.9777777791023254\n",
            "드롭아웃 30%일 때 테스트 데이터 정확도: 0.9777777791023254\n"
          ]
        }
      ]
    },
    {
      "cell_type": "markdown",
      "source": [
        "10)  다음으로 아래와 같이 3개의 은닉층을 가지는 신경망을 구축해 보도록 하자.\n",
        "이 신경망의 훈련 정확도의 최대값과 테스트 데이터의 분류 정확도를 알아보도록 하자."
      ],
      "metadata": {
        "id": "b3qTiHpSi0xe"
      }
    },
    {
      "cell_type": "code",
      "source": [
        "# 3개의 은닉층을 가진 모델\n",
        "model_3_hidden_layers = tf.keras.models.Sequential([\n",
        "    tf.keras.layers.Flatten(input_shape=(4,)),\n",
        "    tf.keras.layers.Dense(64, activation='relu'),\n",
        "    tf.keras.layers.Dense(32, activation='relu'),\n",
        "    tf.keras.layers.Dense(10, activation='relu'),\n",
        "    tf.keras.layers.Dense(3, activation='softmax')\n",
        "])\n",
        "\n",
        "model_3_hidden_layers.compile(optimizer='adam', loss='sparse_categorical_crossentropy', metrics=['accuracy'])\n",
        "history_3_hidden_layers = model_3_hidden_layers.fit(X_train, y_train, batch_size=5, epochs=30, validation_data=(X_test, y_test))\n",
        "\n",
        "# 훈련 정확도의 최대값\n",
        "max_train_accuracy = max(history_3_hidden_layers.history['accuracy'])\n",
        "print(\"훈련 정확도의 최대값:\", max_train_accuracy)\n",
        "\n",
        "# 테스트 데이터의 분류 정확도\n",
        "test_loss_3_hidden_layers, test_accuracy_3_hidden_layers = model_3_hidden_layers.evaluate(X_test, y_test)\n",
        "print(\"3개의 은닉층을 가진 모델의 테스트 데이터 정확도:\", test_accuracy_3_hidden_layers)"
      ],
      "metadata": {
        "colab": {
          "base_uri": "https://localhost:8080/"
        },
        "id": "z5fEwKcvivdf",
        "outputId": "3091483a-70ec-4e91-a7ef-f924360ce5ac"
      },
      "execution_count": 8,
      "outputs": [
        {
          "output_type": "stream",
          "name": "stdout",
          "text": [
            "Epoch 1/30\n",
            "21/21 [==============================] - 1s 11ms/step - loss: 0.9579 - accuracy: 0.6762 - val_loss: 0.7813 - val_accuracy: 0.7778\n",
            "Epoch 2/30\n",
            "21/21 [==============================] - 0s 4ms/step - loss: 0.7066 - accuracy: 0.7619 - val_loss: 0.5429 - val_accuracy: 0.7556\n",
            "Epoch 3/30\n",
            "21/21 [==============================] - 0s 4ms/step - loss: 0.5425 - accuracy: 0.7905 - val_loss: 0.4222 - val_accuracy: 0.8000\n",
            "Epoch 4/30\n",
            "21/21 [==============================] - 0s 4ms/step - loss: 0.4302 - accuracy: 0.8286 - val_loss: 0.3544 - val_accuracy: 0.8444\n",
            "Epoch 5/30\n",
            "21/21 [==============================] - 0s 5ms/step - loss: 0.3669 - accuracy: 0.8571 - val_loss: 0.3044 - val_accuracy: 0.8444\n",
            "Epoch 6/30\n",
            "21/21 [==============================] - 0s 4ms/step - loss: 0.3219 - accuracy: 0.8476 - val_loss: 0.2755 - val_accuracy: 0.8444\n",
            "Epoch 7/30\n",
            "21/21 [==============================] - 0s 4ms/step - loss: 0.2897 - accuracy: 0.8762 - val_loss: 0.2396 - val_accuracy: 0.8667\n",
            "Epoch 8/30\n",
            "21/21 [==============================] - 0s 5ms/step - loss: 0.2589 - accuracy: 0.8857 - val_loss: 0.2169 - val_accuracy: 0.8889\n",
            "Epoch 9/30\n",
            "21/21 [==============================] - 0s 4ms/step - loss: 0.2301 - accuracy: 0.9143 - val_loss: 0.1888 - val_accuracy: 0.8889\n",
            "Epoch 10/30\n",
            "21/21 [==============================] - 0s 4ms/step - loss: 0.2081 - accuracy: 0.9333 - val_loss: 0.1643 - val_accuracy: 0.8889\n",
            "Epoch 11/30\n",
            "21/21 [==============================] - 0s 4ms/step - loss: 0.1908 - accuracy: 0.9333 - val_loss: 0.1387 - val_accuracy: 0.9778\n",
            "Epoch 12/30\n",
            "21/21 [==============================] - 0s 4ms/step - loss: 0.1765 - accuracy: 0.9429 - val_loss: 0.1158 - val_accuracy: 1.0000\n",
            "Epoch 13/30\n",
            "21/21 [==============================] - 0s 4ms/step - loss: 0.1510 - accuracy: 0.9429 - val_loss: 0.0954 - val_accuracy: 1.0000\n",
            "Epoch 14/30\n",
            "21/21 [==============================] - 0s 4ms/step - loss: 0.1326 - accuracy: 0.9619 - val_loss: 0.0829 - val_accuracy: 1.0000\n",
            "Epoch 15/30\n",
            "21/21 [==============================] - 0s 5ms/step - loss: 0.1241 - accuracy: 0.9429 - val_loss: 0.0746 - val_accuracy: 1.0000\n",
            "Epoch 16/30\n",
            "21/21 [==============================] - 0s 5ms/step - loss: 0.1110 - accuracy: 0.9714 - val_loss: 0.0627 - val_accuracy: 1.0000\n",
            "Epoch 17/30\n",
            "21/21 [==============================] - 0s 4ms/step - loss: 0.1008 - accuracy: 0.9619 - val_loss: 0.0530 - val_accuracy: 1.0000\n",
            "Epoch 18/30\n",
            "21/21 [==============================] - 0s 4ms/step - loss: 0.0976 - accuracy: 0.9714 - val_loss: 0.0488 - val_accuracy: 1.0000\n",
            "Epoch 19/30\n",
            "21/21 [==============================] - 0s 4ms/step - loss: 0.0910 - accuracy: 0.9714 - val_loss: 0.0440 - val_accuracy: 1.0000\n",
            "Epoch 20/30\n",
            "21/21 [==============================] - 0s 4ms/step - loss: 0.0833 - accuracy: 0.9810 - val_loss: 0.0411 - val_accuracy: 1.0000\n",
            "Epoch 21/30\n",
            "21/21 [==============================] - 0s 4ms/step - loss: 0.0797 - accuracy: 0.9714 - val_loss: 0.0354 - val_accuracy: 1.0000\n",
            "Epoch 22/30\n",
            "21/21 [==============================] - 0s 4ms/step - loss: 0.0805 - accuracy: 0.9810 - val_loss: 0.0344 - val_accuracy: 1.0000\n",
            "Epoch 23/30\n",
            "21/21 [==============================] - 0s 4ms/step - loss: 0.0731 - accuracy: 0.9714 - val_loss: 0.0311 - val_accuracy: 1.0000\n",
            "Epoch 24/30\n",
            "21/21 [==============================] - 0s 4ms/step - loss: 0.0866 - accuracy: 0.9619 - val_loss: 0.0328 - val_accuracy: 1.0000\n",
            "Epoch 25/30\n",
            "21/21 [==============================] - 0s 4ms/step - loss: 0.0802 - accuracy: 0.9714 - val_loss: 0.0264 - val_accuracy: 1.0000\n",
            "Epoch 26/30\n",
            "21/21 [==============================] - 0s 4ms/step - loss: 0.0735 - accuracy: 0.9714 - val_loss: 0.0258 - val_accuracy: 1.0000\n",
            "Epoch 27/30\n",
            "21/21 [==============================] - 0s 4ms/step - loss: 0.0647 - accuracy: 0.9810 - val_loss: 0.0224 - val_accuracy: 1.0000\n",
            "Epoch 28/30\n",
            "21/21 [==============================] - 0s 5ms/step - loss: 0.0685 - accuracy: 0.9714 - val_loss: 0.0219 - val_accuracy: 1.0000\n",
            "Epoch 29/30\n",
            "21/21 [==============================] - 0s 4ms/step - loss: 0.0660 - accuracy: 0.9714 - val_loss: 0.0219 - val_accuracy: 1.0000\n",
            "Epoch 30/30\n",
            "21/21 [==============================] - 0s 6ms/step - loss: 0.0615 - accuracy: 0.9810 - val_loss: 0.0192 - val_accuracy: 1.0000\n",
            "훈련 정확도의 최대값: 0.9809523820877075\n",
            "2/2 [==============================] - 0s 10ms/step - loss: 0.0192 - accuracy: 1.0000\n",
            "3개의 은닉층을 가진 모델의 테스트 데이터 정확도: 1.0\n"
          ]
        }
      ]
    },
    {
      "cell_type": "code",
      "source": [],
      "metadata": {
        "id": "SCGxhv23i9Ll"
      },
      "execution_count": 8,
      "outputs": []
    }
  ]
}