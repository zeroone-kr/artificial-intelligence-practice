{
  "nbformat": 4,
  "nbformat_minor": 0,
  "metadata": {
    "colab": {
      "provenance": [],
      "collapsed_sections": [
        "wWr0tsEkk5Ss",
        "lwZOITs2R7Mc"
      ],
      "authorship_tag": "ABX9TyM6SyhPMvsyfV37Hu9MPHzu"
    },
    "kernelspec": {
      "name": "python3",
      "display_name": "Python 3"
    },
    "language_info": {
      "name": "python"
    }
  },
  "cells": [
    {
      "cell_type": "markdown",
      "source": [
        "# 4.1 문제"
      ],
      "metadata": {
        "id": "ILWc76UHkvFm"
      }
    },
    {
      "cell_type": "code",
      "source": [
        "import pandas as pd\n",
        "from sklearn.linear_model import LinearRegression\n",
        "from sklearn.metrics import mean_squared_error\n",
        "\n",
        "# 데이터 로드\n",
        "df = pd.DataFrame({\n",
        "     'A': [130,16.3],\n",
        "     'B':[250,10.2],\n",
        "     'C':[190,11.1],\n",
        "     'D':[300,7.1],\n",
        "     'E':[210,12.1],\n",
        "     'F':[220, 13.2],\n",
        "     'G':[170,14.2]},\n",
        "     index = ['마력', '연비']\n",
        ")\n",
        "\n",
        "# X, y 데이터 분할\n",
        "X = df.loc['마력'].values.reshape(-1, 1)\n",
        "y = df.loc['연비'].values\n",
        "\n",
        "# 선형 모델 생성 및 훈련\n",
        "model = LinearRegression()\n",
        "model.fit(X, y)\n",
        "\n",
        "# print(X.shape,)\n",
        "# 1) model coefficients 출력\n",
        "print('계수:', model.coef_)\n",
        "print('절편:', model.intercept_)\n",
        "print('예측 점수:', model.score(X, y))\n",
        "\n",
        "# 2) 270 마력 자동차의 예상 연비\n",
        "print('270 마력 자동차의 예상 연비:', round(model.predict([[270]])[0],2), 'km/l')"
      ],
      "metadata": {
        "colab": {
          "base_uri": "https://localhost:8080/"
        },
        "id": "wRkuXZZXf3RK",
        "outputId": "1df8f6b8-42ea-47d8-9105-e7e67155b15c"
      },
      "execution_count": null,
      "outputs": [
        {
          "output_type": "stream",
          "name": "stdout",
          "text": [
            "계수: [-0.05027473]\n",
            "절편: 22.58626373626374\n",
            "예측 점수: 0.8706727649378526\n",
            "270 마력 자동차의 예상 연비: 9.01 km/l\n"
          ]
        }
      ]
    },
    {
      "cell_type": "code",
      "source": [
        "X = X.reshape(-1,1)\n",
        "plt.plot(X, y,'go')\n",
        "y = list(map(lambda x: model.coef_[0]* x + model.intercept_, [130, 300]))\n",
        "X = [130, 300]\n",
        "plt.plot(X, y)"
      ],
      "metadata": {
        "colab": {
          "base_uri": "https://localhost:8080/",
          "height": 283
        },
        "id": "bH5gwZ_IVCiM",
        "outputId": "642e4d64-5c7a-40ad-d932-68efa68a70f7"
      },
      "execution_count": null,
      "outputs": [
        {
          "output_type": "execute_result",
          "data": {
            "text/plain": [
              "[<matplotlib.lines.Line2D at 0x7fc71ae7b6a0>]"
            ]
          },
          "metadata": {},
          "execution_count": 20
        },
        {
          "output_type": "display_data",
          "data": {
            "text/plain": [
              "<Figure size 432x288 with 1 Axes>"
            ],
            "image/png": "[encoded data removed]"
          },
          "metadata": {
            "needs_background": "light"
          }
        }
      ]
    },
    {
      "cell_type": "markdown",
      "source": [
        "# 4.2 문제"
      ],
      "metadata": {
        "id": "wWr0tsEkk5Ss"
      }
    },
    {
      "cell_type": "code",
      "source": [
        "ㅇ`"
      ],
      "metadata": {
        "id": "DxEM0Oo-Uzzn"
      },
      "execution_count": null,
      "outputs": []
    },
    {
      "cell_type": "code",
      "source": [
        "from sklearn.linear_model import LinearRegression\n",
        "import pandas as pd\n",
        "\n",
        "df = pd.DataFrame({\n",
        "     'A':[130,1900,16.3],\n",
        "     'B':[250,2600,10.2],\n",
        "     'C':[190,2200,11.1],\n",
        "     'D':[300,2900,7.1],\n",
        "     'E':[210,2400,12.1],\n",
        "     'F':[220,2300,13.2],\n",
        "     'G':[170,2100,14.2]},\n",
        "     index = ['마력','총중량', '연비']\n",
        ")\n",
        "\n",
        "X = df.loc[['마력', '총중량']].values.T  # 독립변수 X\n",
        "y = df.loc['연비'].values  # 종속변수 y\n",
        "\n",
        "#print(type(X), type(y))\n",
        "#print(X, y)\n",
        "# 모델 학습\n",
        "model = LinearRegression()\n",
        "model.fit(X, y)\n",
        "\n",
        "# 1) model coefficients 출력\n",
        "print('계수:', model.coef_)\n",
        "print('절편:', model.intercept_)\n",
        "print('예측 점수:', model.score(X, y))\n",
        "\n",
        "# 2) 270 마력 자동차의 예상 연비\n",
        "print('270 마력 2500kg 자동차의 예상 연비:', round(model.predict([[270,2500]])[0],2), 'km/l')"
      ],
      "metadata": {
        "id": "eL6ArMkxFXZD",
        "colab": {
          "base_uri": "https://localhost:8080/"
        },
        "outputId": "46c0341f-1e57-4a68-de8b-79688335d7aa"
      },
      "execution_count": null,
      "outputs": [
        {
          "output_type": "stream",
          "name": "stdout",
          "text": [
            "계수: [-0.00689189 -0.00731081]\n",
            "절편: 30.60405405405405\n",
            "예측 점수: 0.8871254041192396\n",
            "270 마력 2500kg 자동차의 예상 연비: 10.47 km/l\n"
          ]
        }
      ]
    },
    {
      "cell_type": "code",
      "source": [
        "import seaborn as sns\n",
        "import matplotlib.pyplot as plt\n",
        "\n",
        "df_transpose = df.T\n",
        "df_transpose = df_transpose.rename(columns = {'마력':'horse_power', '총중량':'total_weight', '연비': 'fuel_efficiency'})\n",
        "sns.pairplot(df_transpose[['horse_power','total_weight','fuel_efficiency']])"
      ],
      "metadata": {
        "colab": {
          "base_uri": "https://localhost:8080/",
          "height": 568
        },
        "id": "9iln72-TFYAR",
        "outputId": "42b527a1-2c72-4f1c-dd21-c17f7d6a2f12"
      },
      "execution_count": null,
      "outputs": [
        {
          "output_type": "execute_result",
          "data": {
            "text/plain": [
              "<seaborn.axisgrid.PairGrid at 0x7fc723a6c8e0>"
            ]
          },
          "metadata": {},
          "execution_count": 3
        },
        {
          "output_type": "display_data",
          "data": {
            "text/plain": [
              "<Figure size 540x540 with 12 Axes>"
            ],
            "image/png": "[encoded data removed]"
          },
          "metadata": {
            "needs_background": "light"
          }
        }
      ]
    },
    {
      "cell_type": "code",
      "source": [
        "correlation_matrix = df_transpose.corr().round(2)\n",
        "sns.heatmap(data=correlation_matrix, annot=True)"
      ],
      "metadata": {
        "id": "pOI4SCj5FYdk",
        "colab": {
          "base_uri": "https://localhost:8080/",
          "height": 288
        },
        "outputId": "3b945372-3ff6-4b2f-b655-b5c5a4b1b0ab"
      },
      "execution_count": null,
      "outputs": [
        {
          "output_type": "execute_result",
          "data": {
            "text/plain": [
              "<Axes: >"
            ]
          },
          "metadata": {},
          "execution_count": 4
        },
        {
          "output_type": "display_data",
          "data": {
            "text/plain": [
              "<Figure size 432x288 with 2 Axes>"
            ],
            "image/png": "[encoded data removed]"
          },
          "metadata": {
            "needs_background": "light"
          }
        }
      ]
    },
    {
      "cell_type": "markdown",
      "source": [
        "# 결론\n",
        "\n",
        "- 마력과 총중량은 비례 관계이다.\n",
        "- 마력과 연비는 반비례 관계이다.\n",
        "- 총중량과 연비는 반비례 관계이다.\n"
      ],
      "metadata": {
        "id": "lwZOITs2R7Mc"
      }
    }
  ]
}
